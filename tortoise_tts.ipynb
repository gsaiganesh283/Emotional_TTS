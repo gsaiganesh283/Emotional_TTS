{
 "cells": [
  {
   "cell_type": "code",
   "execution_count": 2,
   "metadata": {
    "id": "JrK20I32grP6"
   },
   "outputs": [
    {
     "name": "stdout",
     "output_type": "stream",
     "text": [
      "Defaulting to user installation because normal site-packages is not writeable\n",
      "Requirement already satisfied: tqdm in c:\\users\\gsaig\\appdata\\local\\packages\\pythonsoftwarefoundation.python.3.12_qbz5n2kfra8p0\\localcache\\local-packages\\python312\\site-packages (from -r requirements.txt (line 1)) (4.66.5)\n",
      "Collecting rotary_embedding_torch (from -r requirements.txt (line 2))\n",
      "  Using cached rotary_embedding_torch-0.8.4-py3-none-any.whl.metadata (678 bytes)\n",
      "Collecting transformers==4.31.0 (from -r requirements.txt (line 3))\n",
      "  Using cached transformers-4.31.0-py3-none-any.whl.metadata (116 kB)\n",
      "Requirement already satisfied: tokenizers in c:\\users\\gsaig\\appdata\\local\\packages\\pythonsoftwarefoundation.python.3.12_qbz5n2kfra8p0\\localcache\\local-packages\\python312\\site-packages (from -r requirements.txt (line 4)) (0.20.0)\n",
      "Collecting inflect (from -r requirements.txt (line 5))\n",
      "  Using cached inflect-7.4.0-py3-none-any.whl.metadata (21 kB)\n",
      "Collecting progressbar (from -r requirements.txt (line 6))\n",
      "  Using cached progressbar-2.5.tar.gz (10 kB)\n",
      "  Preparing metadata (setup.py): started\n",
      "  Preparing metadata (setup.py): finished with status 'done'\n",
      "Collecting einops==0.4.1 (from -r requirements.txt (line 7))\n",
      "  Using cached einops-0.4.1-py3-none-any.whl.metadata (10 kB)\n",
      "Collecting unidecode (from -r requirements.txt (line 8))\n",
      "  Using cached Unidecode-1.3.8-py3-none-any.whl.metadata (13 kB)\n",
      "Requirement already satisfied: scipy in c:\\users\\gsaig\\appdata\\local\\packages\\pythonsoftwarefoundation.python.3.12_qbz5n2kfra8p0\\localcache\\local-packages\\python312\\site-packages (from -r requirements.txt (line 9)) (1.14.1)\n",
      "Collecting librosa==0.9.1 (from -r requirements.txt (line 10))\n",
      "  Using cached librosa-0.9.1-py3-none-any.whl.metadata (6.9 kB)\n",
      "Collecting ffmpeg (from -r requirements.txt (line 11))\n",
      "  Using cached ffmpeg-1.4.tar.gz (5.1 kB)\n",
      "  Preparing metadata (setup.py): started\n",
      "  Preparing metadata (setup.py): finished with status 'done'\n",
      "Requirement already satisfied: numpy in c:\\users\\gsaig\\appdata\\local\\packages\\pythonsoftwarefoundation.python.3.12_qbz5n2kfra8p0\\localcache\\local-packages\\python312\\site-packages (from -r requirements.txt (line 12)) (2.0.2)\n",
      "Requirement already satisfied: numba in c:\\users\\gsaig\\appdata\\local\\packages\\pythonsoftwarefoundation.python.3.12_qbz5n2kfra8p0\\localcache\\local-packages\\python312\\site-packages (from -r requirements.txt (line 13)) (0.60.0)\n",
      "Requirement already satisfied: torchaudio in c:\\users\\gsaig\\appdata\\local\\packages\\pythonsoftwarefoundation.python.3.12_qbz5n2kfra8p0\\localcache\\local-packages\\python312\\site-packages (from -r requirements.txt (line 14)) (2.4.1)\n",
      "Requirement already satisfied: threadpoolctl in c:\\users\\gsaig\\appdata\\local\\packages\\pythonsoftwarefoundation.python.3.12_qbz5n2kfra8p0\\localcache\\local-packages\\python312\\site-packages (from -r requirements.txt (line 15)) (3.5.0)\n",
      "Requirement already satisfied: llvmlite in c:\\users\\gsaig\\appdata\\local\\packages\\pythonsoftwarefoundation.python.3.12_qbz5n2kfra8p0\\localcache\\local-packages\\python312\\site-packages (from -r requirements.txt (line 16)) (0.43.0)\n",
      "Collecting appdirs (from -r requirements.txt (line 17))\n",
      "  Using cached appdirs-1.4.4-py2.py3-none-any.whl.metadata (9.0 kB)\n",
      "Collecting nbconvert==5.3.1 (from -r requirements.txt (line 18))\n",
      "  Using cached nbconvert-5.3.1-py2.py3-none-any.whl.metadata (1.6 kB)\n",
      "Collecting tornado==4.2 (from -r requirements.txt (line 19))\n",
      "  Using cached tornado-4.2.tar.gz (433 kB)\n",
      "  Preparing metadata (setup.py): started\n",
      "  Preparing metadata (setup.py): finished with status 'done'\n",
      "Collecting pydantic==1.9.1 (from -r requirements.txt (line 20))\n",
      "  Using cached pydantic-1.9.1-py3-none-any.whl.metadata (126 kB)\n",
      "Collecting deepspeed==0.8.3 (from -r requirements.txt (line 21))\n",
      "  Using cached deepspeed-0.8.3.tar.gz (765 kB)\n",
      "  Preparing metadata (setup.py): started\n",
      "  Preparing metadata (setup.py): finished with status 'error'\n"
     ]
    },
    {
     "name": "stderr",
     "output_type": "stream",
     "text": [
      "  error: subprocess-exited-with-error\n",
      "  \n",
      "  × python setup.py egg_info did not run successfully.\n",
      "  │ exit code: 1\n",
      "  ╰─> [15 lines of output]\n",
      "      [WARNING] Torch did not find cuda available, if cross-compiling or running with cpu only you can ignore this message. Adding compute capability for Pascal, Volta, and Turing (compute capabilities 6.0, 6.1, 6.2)\n",
      "      DS_BUILD_OPS=1\n",
      "      \u001b[93m [WARNING] \u001b[0m async_io requires the dev libaio .so object and headers but these were not found.\n",
      "      \u001b[93m [WARNING] \u001b[0m If libaio is already installed (perhaps from source), try setting the CFLAGS and LDFLAGS environment variables to where it can be found.\n",
      "      \u001b[93m [WARNING] \u001b[0m One can disable async_io with DS_BUILD_AIO=0\n",
      "      \u001b[31m [ERROR] \u001b[0m Unable to pre-compile async_io\n",
      "      Traceback (most recent call last):\n",
      "        File \"<string>\", line 2, in <module>\n",
      "        File \"<pip-setuptools-caller>\", line 34, in <module>\n",
      "        File \"C:\\Users\\gsaig\\AppData\\Local\\Temp\\pip-install-wflya79_\\deepspeed_743f79979641455792f868c2bf2bab9f\\setup.py\", line 156, in <module>\n",
      "          abort(f\"Unable to pre-compile {op_name}\")\n",
      "        File \"C:\\Users\\gsaig\\AppData\\Local\\Temp\\pip-install-wflya79_\\deepspeed_743f79979641455792f868c2bf2bab9f\\setup.py\", line 48, in abort\n",
      "          assert False, msg\n",
      "                 ^^^^^\n",
      "      AssertionError: Unable to pre-compile async_io\n",
      "      [end of output]\n",
      "  \n",
      "  note: This error originates from a subprocess, and is likely not a problem with pip.\n",
      "error: metadata-generation-failed\n",
      "\n",
      "× Encountered error while generating package metadata.\n",
      "╰─> See above for output.\n",
      "\n",
      "note: This is an issue with the package mentioned above, not pip.\n",
      "hint: See above for details.\n"
     ]
    }
   ],
   "source": [
    "\n",
    "!pip3 install -r requirements.txt"
   ]
  },
  {
   "cell_type": "code",
   "execution_count": 3,
   "metadata": {},
   "outputs": [
    {
     "name": "stdout",
     "output_type": "stream",
     "text": [
      "running install\n"
     ]
    },
    {
     "name": "stderr",
     "output_type": "stream",
     "text": [
      "C:\\Users\\gsaig\\AppData\\Local\\Packages\\PythonSoftwareFoundation.Python.3.12_qbz5n2kfra8p0\\LocalCache\\local-packages\\Python312\\site-packages\\setuptools\\_distutils\\cmd.py:66: SetuptoolsDeprecationWarning: setup.py install is deprecated.\n",
      "!!\n",
      "\n",
      "        ********************************************************************************\n",
      "        Please avoid running ``setup.py`` directly.\n",
      "        Instead, use pypa/build, pypa/installer or other\n",
      "        standards-based tools.\n",
      "\n",
      "        See https://blog.ganssle.io/articles/2021/10/setup-py-deprecated.html for details.\n",
      "        ********************************************************************************\n",
      "\n",
      "!!\n",
      "  self.initialize_options()\n",
      "C:\\Users\\gsaig\\AppData\\Local\\Packages\\PythonSoftwareFoundation.Python.3.12_qbz5n2kfra8p0\\LocalCache\\local-packages\\Python312\\site-packages\\setuptools\\_distutils\\cmd.py:66: EasyInstallDeprecationWarning: easy_install command is deprecated.\n",
      "!!\n",
      "\n",
      "        ********************************************************************************\n",
      "        Please avoid running ``setup.py`` and ``easy_install``.\n",
      "        Instead, use pypa/build, pypa/installer or other\n",
      "        standards-based tools.\n",
      "\n",
      "        See https://github.com/pypa/setuptools/issues/917 for details.\n",
      "        ********************************************************************************\n",
      "\n",
      "!!\n",
      "  self.initialize_options()\n",
      "error: can't create or remove files in install directory\n",
      "\n",
      "The following error occurred while trying to add or remove files in the\n",
      "installation directory:\n",
      "\n",
      "    [Errno 13] Permission denied: 'C:\\\\Program Files\\\\WindowsApps\\\\PythonSoftwareFoundation.Python.3.12_3.12.2032.0_x64__qbz5n2kfra8p0\\\\Lib\\\\site-packages\\\\test-easy-install-15236.write-test'\n",
      "\n",
      "The installation directory you specified (via --install-dir, --prefix, or\n",
      "the distutils default setting) was:\n",
      "\n",
      "    C:\\Program Files\\WindowsApps\\PythonSoftwareFoundation.Python.3.12_3.12.2032.0_x64__qbz5n2kfra8p0\\Lib\\site-packages\\\n",
      "\n",
      "Perhaps your account does not have write access to this directory?  If the\n",
      "installation directory is a system-owned directory, you may need to sign in\n",
      "as the administrator or \"root\" account.  If you do not have administrative\n",
      "access to this machine, you may wish to choose a different installation\n",
      "directory, preferably one that is listed in your PYTHONPATH environment\n",
      "variable.\n",
      "\n",
      "For information on other options, you may wish to consult the\n",
      "documentation at:\n",
      "\n",
      "  https://setuptools.pypa.io/en/latest/deprecated/easy_install.html\n",
      "\n",
      "Please make the appropriate changes for your system and try again.\n",
      "\n"
     ]
    }
   ],
   "source": [
    "!python3 setup.py install"
   ]
  },
  {
   "cell_type": "code",
   "execution_count": null,
   "metadata": {
    "id": "Gen09NM4hONQ"
   },
   "outputs": [],
   "source": [
    "# Imports used through the rest of the notebook.\n",
    "import torch\n",
    "import torchaudio\n",
    "import torch.nn as nn\n",
    "import torch.nn.functional as F\n",
    "\n",
    "import IPython\n",
    "\n",
    "from tortoise.api import TextToSpeech\n",
    "from tortoise.utils.audio import load_audio, load_voice, load_voices\n",
    "\n",
    "# This will download all the models used by Tortoise from the HF hub.\n",
    "# tts = TextToSpeech()\n",
    "# If you want to use deepspeed the pass use_deepspeed=True nearly 2x faster than normal\n",
    "tts = TextToSpeech(use_deepspeed=True, kv_cache=True)"
   ]
  },
  {
   "cell_type": "code",
   "execution_count": 2,
   "metadata": {
    "id": "bt_aoxONjfL2"
   },
   "outputs": [],
   "source": [
    "# This is the text that will be spoken.\n",
    "text = \"Joining two modalities results in a surprising increase in generalization! What would happen if we combined them all?\"\n",
    "\n",
    "# Here's something for the poetically inclined.. (set text=)\n",
    "\"\"\"\n",
    "Then took the other, as just as fair,\n",
    "And having perhaps the better claim,\n",
    "Because it was grassy and wanted wear;\n",
    "Though as for that the passing there\n",
    "Had worn them really about the same,\"\"\"\n",
    "\n",
    "# Pick a \"preset mode\" to determine quality. Options: {\"ultra_fast\", \"fast\" (default), \"standard\", \"high_quality\"}. See docs in api.py\n",
    "preset = \"ultra_fast\""
   ]
  },
  {
   "cell_type": "code",
   "execution_count": null,
   "metadata": {
    "id": "KEXOKjIvn6NW"
   },
   "outputs": [],
   "source": [
    "# Pick one of the voices from the output above\n",
    "voice = 'tom'\n",
    "\n",
    "# Load it and send it through Tortoise.\n",
    "voice_samples, conditioning_latents = load_voice(voice)\n",
    "gen = tts.tts_with_preset(text, voice_samples=voice_samples, conditioning_latents=conditioning_latents, \n",
    "                          preset=preset)\n",
    "torchaudio.save('generated.wav', gen.squeeze(0).cpu(), 24000)\n",
    "IPython.display.Audio('generated.wav')"
   ]
  },
  {
   "cell_type": "code",
   "execution_count": null,
   "metadata": {
    "id": "16Xs2SSC3BXa"
   },
   "outputs": [],
   "source": [
    "# Tortoise can also generate speech using a random voice. The voice changes each time you execute this!\n",
    "# (Note: random voices can be prone to strange utterances)\n",
    "gen = tts.tts_with_preset(text, voice_samples=None, conditioning_latents=None, preset=preset)\n",
    "torchaudio.save('generated.wav', gen.squeeze(0).cpu(), 24000)\n",
    "IPython.display.Audio('generated.wav')"
   ]
  },
  {
   "cell_type": "code",
   "execution_count": null,
   "metadata": {
    "id": "fYTk8KUezUr5"
   },
   "outputs": [],
   "source": [
    "# You can also combine conditioning voices. Combining voices produces a new voice\n",
    "# with traits from all the parents.\n",
    "#\n",
    "# Lets see what it would sound like if Picard and Kirk had a kid with a penchant for philosophy:\n",
    "voice_samples, conditioning_latents = load_voices(['pat', 'william'])\n",
    "\n",
    "gen = tts.tts_with_preset(\"They used to say that if man was meant to fly, he’d have wings. But he did fly. He discovered he had to.\", \n",
    "                          voice_samples=None, conditioning_latents=None, preset=preset)\n",
    "torchaudio.save('captain_kirkard.wav', gen.squeeze(0).cpu(), 24000)\n",
    "IPython.display.Audio('captain_kirkard.wav')"
   ]
  },
  {
   "cell_type": "code",
   "execution_count": null,
   "metadata": {
    "id": "t66yqWgu68KL"
   },
   "outputs": [],
   "source": [
    "del tts  # Will break other cells, but necessary to conserve RAM if you want to run this cell.\n",
    "\n",
    "# Tortoise comes with some scripts that does a lot of the lifting for you. For example,\n",
    "# read.py will read a text file for you.\n",
    "!python3 tortoise/read.py --voice=train_atkins --textfile=tortoise/data/riding_hood.txt --preset=ultra_fast --output_path=.\n",
    "\n",
    "IPython.display.Audio('train_atkins/combined.wav')\n",
    "# This will take awhile.."
   ]
  }
 ],
 "metadata": {
  "accelerator": "GPU",
  "colab": {
   "collapsed_sections": [],
   "name": "tortoise-tts.ipynb",
   "provenance": []
  },
  "kernelspec": {
   "display_name": "Python 3",
   "language": "python",
   "name": "python3"
  },
  "language_info": {
   "codemirror_mode": {
    "name": "ipython",
    "version": 3
   },
   "file_extension": ".py",
   "mimetype": "text/x-python",
   "name": "python",
   "nbconvert_exporter": "python",
   "pygments_lexer": "ipython3",
   "version": "3.12.7"
  }
 },
 "nbformat": 4,
 "nbformat_minor": 4
}
